{
 "cells": [
  {
   "cell_type": "markdown",
   "metadata": {},
   "source": [
    "## PHYTON´S EXCERCISES"
   ]
  },
  {
   "cell_type": "markdown",
   "metadata": {},
   "source": [
    "[LOGO UT ALTAMIRA](http://www.utaltamira.edu.mx/)"
   ]
  },
  {
   "cell_type": "markdown",
   "metadata": {},
   "source": [
    "# EXCERCISE 1 - A GOOD FIRST PROGRAM"
   ]
  },
  {
   "cell_type": "markdown",
   "metadata": {},
   "source": [
    "In this step is to practice how to print a text on the screen using the following command:\n",
    "print(\"title\")\n",
    "     -Some examples:"
   ]
  },
  {
   "cell_type": "code",
   "execution_count": 3,
   "metadata": {},
   "outputs": [
    {
     "name": "stdout",
     "output_type": "stream",
     "text": [
      "HI EVERYBODY\n",
      "HOW ARE YOU?\n",
      "WHAT´S GOING ON?\n",
      "THIS IS TOO EASY!!!\n"
     ]
    }
   ],
   "source": [
    "print(\"HI EVERYBODY\")\n",
    "print(\"HOW ARE YOU?\")\n",
    "print(\"WHAT´S GOING ON?\")\n",
    "print(\"THIS IS TOO EASY!!!\")"
   ]
  },
  {
   "cell_type": "markdown",
   "metadata": {},
   "source": [
    "And you can see the text you wrote"
   ]
  },
  {
   "cell_type": "markdown",
   "metadata": {},
   "source": [
    "# EXCERCISE 2 - COMMENTS AND POUND CHARACTERS"
   ]
  },
  {
   "cell_type": "markdown",
   "metadata": {},
   "source": [
    "Comments are used to say something without appearing when the program is run. An example of this follows:"
   ]
  },
  {
   "cell_type": "code",
   "execution_count": 5,
   "metadata": {},
   "outputs": [
    {
     "name": "stdout",
     "output_type": "stream",
     "text": [
      "This is a text that will appear on the screen -_-\n",
      "You will see this :)\n"
     ]
    }
   ],
   "source": [
    "#This is a comment that you can read.\n",
    "print(\"This is a text that will appear on the screen -_-\") #And this won´t appear on the screen.\n",
    "#You can write some information to understand the code.\n",
    "#Also you can use this to disable somo codes.\n",
    "#print(\"You won´t see this\").\n",
    "print(\"You will see this :)\")\n",
    "#Use the comments is too easy and useful."
   ]
  },
  {
   "cell_type": "markdown",
   "metadata": {},
   "source": [
    "And as you can see, only everything that is not comment appears on the screen"
   ]
  },
  {
   "cell_type": "markdown",
   "metadata": {},
   "source": [
    "# EXCERCISE 3 - NUMBERS AND MATH "
   ]
  },
  {
   "cell_type": "markdown",
   "metadata": {},
   "source": [
    "To be able to program using numbers you must know the basic functions of mathematics, its corresponding name and code to be able to execute it, the most basic ones will be shown below:"
   ]
  },
  {
   "cell_type": "markdown",
   "metadata": {},
   "source": [
    "(+) plus  (-) minus/ slash (*) asterisk (%) percent (<) less-than (>) greater-than (<=) less-than-equal (>=) greater-than-equal"
   ]
  },
  {
   "cell_type": "markdown",
   "metadata": {},
   "source": [
    "An example will be shown below using each of them:"
   ]
  },
  {
   "cell_type": "code",
   "execution_count": 6,
   "metadata": {},
   "outputs": [
    {
     "name": "stdout",
     "output_type": "stream",
     "text": [
      "In a musical group we have men and women\n",
      "How many men do we have? 111\n",
      "How many women do we have? 768.0\n",
      "What is the average of the ages?\n",
      "24.555555555555557\n",
      "Is it true that 15*48<65*82?\n",
      "True\n",
      "Is it greater? True\n",
      "Is it greater or equal? False\n",
      "Is it less or equal? True\n"
     ]
    }
   ],
   "source": [
    "#\n",
    "print(\"In a musical group we have men and women\")\n",
    "print(\"How many men do we have?\", 12*3+15+60)\n",
    "print(\"How many women do we have?\", 30+45*82/5)\n",
    "print(\"What is the average of the ages?\")\n",
    "print((18+20+30*5+16+17)/9)\n",
    "print(\"Is it true that 15*48<65*82?\")\n",
    "print(15*48<65*82)\n",
    "print(\"Is it greater?\", 5 > -2)\n",
    "print(\"Is it greater or equal?\", 25/8>=48/8)\n",
    "print(\"Is it less or equal?\", 48<=49)\n"
   ]
  },
  {
   "cell_type": "markdown",
   "metadata": {},
   "source": [
    "As you can see the different types in which they can use the mathematical symbols."
   ]
  },
  {
   "cell_type": "markdown",
   "metadata": {},
   "source": [
    "# EXCERCISE 4 - VARIABLES AND NAME"
   ]
  },
  {
   "cell_type": "markdown",
   "metadata": {},
   "source": [
    "Now you will learn how to use the variables at the time of printing using a name, which at the time of making the program you can not get entangled with so many words in the codes. An example will be shown in which the variables and names will be used."
   ]
  },
  {
   "cell_type": "code",
   "execution_count": 9,
   "metadata": {},
   "outputs": [
    {
     "name": "stdout",
     "output_type": "stream",
     "text": [
      "There are 20 workers in total.\n",
      "There are only 32 students in total.\n",
      "They are 18 age for all.\n"
     ]
    }
   ],
   "source": [
    "people = 52\n",
    "age = 18\n",
    "students = 32\n",
    "workers = people - students\n",
    "print(\"There are\", workers, \"workers in total.\")\n",
    "print(\"There are only\", students, \"students in total.\")\n",
    "print(\"They are\", age, \"age for all.\")"
   ]
  },
  {
   "cell_type": "markdown",
   "metadata": {},
   "source": [
    "And as the example, you can use it in other situations, making it easier to program."
   ]
  },
  {
   "cell_type": "markdown",
   "metadata": {},
   "source": [
    "# EXCERCISE 5 - MORE VARIABLES AND PRINTING"
   ]
  },
  {
   "cell_type": "markdown",
   "metadata": {},
   "source": [
    "Now the variables with a \"format string\" will be used, at the beginning of each sentence the letter \"f\" must be put in order to use this function"
   ]
  },
  {
   "cell_type": "code",
   "execution_count": 11,
   "metadata": {},
   "outputs": [
    {
     "name": "stdout",
     "output_type": "stream",
     "text": [
      "Let's talk about Erick Dominguez.\n",
      "He's 1.62 cm tall.\n",
      "He's 68 kg heavy.\n",
      "Actually that's not too heavy.\n",
      "He's got Black eyes and Black hair.\n",
      "His teeth are usually White.\n",
      "If I add 18, 1.62, and 68 I get 87.62.\n"
     ]
    }
   ],
   "source": [
    "my_name = 'Erick Dominguez'\n",
    "my_age = 18 \n",
    "my_height = 1.62 #cm\n",
    "my_weight = 68 #kg\n",
    "my_eyes = 'Black'\n",
    "my_teeth = 'White'\n",
    "my_hair = 'Black'\n",
    "\n",
    "print(f\"Let's talk about {my_name}.\")\n",
    "print(f\"He's {my_height} cm tall.\")\n",
    "print(f\"He's {my_weight} kg heavy.\")\n",
    "print(\"Actually that's not too heavy.\")\n",
    "print(f\"He's got {my_eyes} eyes and {my_hair} hair.\")\n",
    "print(f\"His teeth are usually {my_teeth}.\")\n",
    "total = my_age + my_height + my_weight\n",
    "print(f\"If I add {my_age}, {my_height}, and {my_weight} I get {total}.\")\n"
   ]
  },
  {
   "cell_type": "markdown",
   "metadata": {},
   "source": [
    "# EXERCISE 6 - STRINGS AND TEXT"
   ]
  },
  {
   "cell_type": "markdown",
   "metadata": {},
   "source": [
    "In this exercise we create a bunch of variables with complex strings so you can see what they are for."
   ]
  },
  {
   "cell_type": "code",
   "execution_count": 6,
   "metadata": {},
   "outputs": [
    {
     "name": "stdout",
     "output_type": "stream",
     "text": [
      "there are 10 types of things.\n",
      "None45\n",
      "those which know binary and those which don´t.\n",
      "None5\n",
      "45\n",
      "5\n",
      "I said: 45\n",
      "I also said: '5'\n"
     ]
    },
    {
     "ename": "NameError",
     "evalue": "name 'false' is not defined",
     "output_type": "error",
     "traceback": [
      "\u001b[1;31m---------------------------------------------------------------------------\u001b[0m",
      "\u001b[1;31mNameError\u001b[0m                                 Traceback (most recent call last)",
      "\u001b[1;32m<ipython-input-6-62519657c151>\u001b[0m in \u001b[0;36m<module>\u001b[1;34m\u001b[0m\n\u001b[0;32m     14\u001b[0m \u001b[0mprint\u001b[0m\u001b[1;33m(\u001b[0m\u001b[1;34mf\"I also said: '{y}'\"\u001b[0m\u001b[1;33m)\u001b[0m\u001b[1;33m\u001b[0m\u001b[1;33m\u001b[0m\u001b[0m\n\u001b[0;32m     15\u001b[0m \u001b[1;33m\u001b[0m\u001b[0m\n\u001b[1;32m---> 16\u001b[1;33m \u001b[0mhilarious\u001b[0m \u001b[1;33m=\u001b[0m \u001b[0mfalse\u001b[0m\u001b[1;33m\u001b[0m\u001b[1;33m\u001b[0m\u001b[0m\n\u001b[0m\u001b[0;32m     17\u001b[0m \u001b[0mjoke_evaluation\u001b[0m \u001b[1;33m=\u001b[0m \u001b[1;34m\"isn´t that joke so funny?!{}\"\u001b[0m\u001b[1;33m\u001b[0m\u001b[1;33m\u001b[0m\u001b[0m\n\u001b[0;32m     18\u001b[0m \u001b[1;33m\u001b[0m\u001b[0m\n",
      "\u001b[1;31mNameError\u001b[0m: name 'false' is not defined"
     ]
    }
   ],
   "source": [
    "# this is the number of types \n",
    "types_of_things = 10\n",
    "# this is a variable \n",
    "x = int(input( print( f\"there are {types_of_things} types of things.\")))\n",
    "\n",
    "binary = \"binary\"\n",
    "do_not = \"don´t\"\n",
    "y = int(input( print( f\"those which know {binary} and those which {do_not}.\")))\n",
    "# those are some variables that you can see on the screen\n",
    "print(x)\n",
    "print(y)\n",
    "\n",
    "print(f\"I said: {x}\")\n",
    "print(f\"I also said: '{y}'\")\n",
    "\n",
    "hilarious = false\n",
    "joke_evaluation = \"isn´t that joke so funny?!{}\"\n",
    "\n",
    "print (joke_evaluation. format (hilarious))\n",
    "\n",
    "n = \"this is the left side off...\"\n",
    "m = \"a stright with a right side.\"\n",
    "print (n + m)\n",
    "# you may see: x = f \"there are {types_of_things} types of things.\""
   ]
  },
  {
   "cell_type": "markdown",
   "metadata": {},
   "source": [
    "# EXERCISE 7 - MORE PRINTING"
   ]
  },
  {
   "cell_type": "markdown",
   "metadata": {},
   "source": [
    "In this exercise we are going to do a buncho of exercises where you just type code and make it run."
   ]
  },
  {
   "cell_type": "code",
   "execution_count": 12,
   "metadata": {},
   "outputs": [
    {
     "name": "stdout",
     "output_type": "stream",
     "text": [
      "I had a red motorcycle.\n",
      "Its engine was very small as snow.\n",
      "And i ride it everywhere that me went.\n",
      "...\n"
     ]
    }
   ],
   "source": [
    "# those sentences will be printing on the screen.\n",
    "print(\"I had a red motorcycle.\")\n",
    "print(\"Its engine was very small as {}.\". format('snow'))\n",
    "print(\"And i ride it everywhere that me went.\")\n",
    "print(\".\" * 3) "
   ]
  },
  {
   "cell_type": "markdown",
   "metadata": {},
   "source": [
    "# EXERCISE 8 - PRINTING, PRINTING"
   ]
  },
  {
   "cell_type": "markdown",
   "metadata": {},
   "source": [
    "In this exercise we are doing more complicated formatting of a string"
   ]
  },
  {
   "cell_type": "code",
   "execution_count": 13,
   "metadata": {},
   "outputs": [
    {
     "name": "stdout",
     "output_type": "stream",
     "text": [
      "1 2 3 4\n",
      "one two three four\n",
      "{} {} {} {} {} {} {} {} {} {} {} {} {} {} {} {}\n",
      "i used to play soccer when i was 13 years old\n"
     ]
    }
   ],
   "source": [
    "# here you should declare the number of sentences that you want to print\n",
    "formatter = \"{} {} {} {}\"\n",
    "# you should see those sentenses \n",
    "print(formatter. format(1, 2, 3, 4))\n",
    "print(formatter. format(\"one\", \"two\", \"three\", \"four\"))\n",
    "print(formatter. format(formatter, formatter, formatter, formatter))\n",
    "print(formatter. format(\n",
    "    \"i used to\",\n",
    "    \"play soccer\",\n",
    "    \"when i was\",\n",
    "    \"13 years old\"\n",
    "))"
   ]
  },
  {
   "cell_type": "markdown",
   "metadata": {},
   "source": [
    "# EXERCISE 9 - PRINTING, PRINTING, PRINTING"
   ]
  },
  {
   "cell_type": "markdown",
   "metadata": {},
   "source": [
    "In this excercise you should do the pattern for this book is to use more than one exercise to teach you something new."
   ]
  },
  {
   "cell_type": "code",
   "execution_count": 14,
   "metadata": {},
   "outputs": [
    {
     "name": "stdout",
     "output_type": "stream",
     "text": [
      "here are some telefonic companies:  tel mov une at&t\n",
      "here are some smart phones:  \n",
      "motorola\n",
      "samsumg\n",
      "huawei\n",
      "nokia\n",
      "sony\n",
      "iphone\n",
      "\n",
      "i like the smart phones.\n",
      "i like the motorola smart phones.\n",
      "i have a motorola smart phone.\n",
      "i always use my smart phone.\n",
      "\n"
     ]
    }
   ],
   "source": [
    "# these two variables will be printing on the screen.\n",
    "types = \"tel mov une at&t\"\n",
    "kinds = \"\\nmotorola\\nsamsumg\\nhuawei\\nnokia\\nsony\\niphone\"\n",
    "\n",
    "print(\"here are some telefonic companies: \", types)\n",
    "print(\"here are some smart phones: \", kinds)\n",
    "\n",
    "print(\"\"\"\n",
    "i like the smart phones.\n",
    "i like the motorola smart phones.\n",
    "i have a motorola smart phone.\n",
    "i always use my smart phone.\n",
    "\"\"\")"
   ]
  },
  {
   "cell_type": "markdown",
   "metadata": {},
   "source": [
    "# EXERCISE 10 - WHAT WAS THAT?"
   ]
  },
  {
   "cell_type": "markdown",
   "metadata": {},
   "source": [
    "In this exercise we are going to do something as in exercise 9, but here are various escape sequences "
   ]
  },
  {
   "cell_type": "code",
   "execution_count": 15,
   "metadata": {},
   "outputs": [
    {
     "name": "stdout",
     "output_type": "stream",
     "text": [
      "\ti´m sleeping on.\n",
      "i´m sitting\n",
      "on a chair\n",
      "i´m \\ a \\ driver.\n",
      "\n",
      "i´ll drive to:\n",
      "\t* my house\n",
      "\t* the school\n",
      "\t* the museum\n",
      "\t* the zoo\n",
      "\n"
     ]
    }
   ],
   "source": [
    "# here you can do a list of things and print on the screen\n",
    "x = \"\\ti´m sleeping on.\"\n",
    "y = \"i´m sitting\\non a chair\"\n",
    "z = \"i´m \\\\ a \\\\ driver.\"\n",
    "\n",
    "n = \"\"\"\n",
    "i´ll drive to:\n",
    "\\t* my house\n",
    "\\t* the school\n",
    "\\t* the museum\\n\\t* the zoo\n",
    "\"\"\"\n",
    "\n",
    "print(x)\n",
    "print(y)\n",
    "print(z)\n",
    "print(n)"
   ]
  }
 ],
 "metadata": {
  "kernelspec": {
   "display_name": "Python 3",
   "language": "python",
   "name": "python3"
  },
  "language_info": {
   "codemirror_mode": {
    "name": "ipython",
    "version": 3
   },
   "file_extension": ".py",
   "mimetype": "text/x-python",
   "name": "python",
   "nbconvert_exporter": "python",
   "pygments_lexer": "ipython3",
   "version": "3.7.3"
  }
 },
 "nbformat": 4,
 "nbformat_minor": 2
}
